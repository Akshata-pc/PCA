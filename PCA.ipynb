{
  "nbformat": 4,
  "nbformat_minor": 0,
  "metadata": {
    "kernelspec": {
      "display_name": "Python 3",
      "language": "python",
      "name": "python3"
    },
    "language_info": {
      "codemirror_mode": {
        "name": "ipython",
        "version": 3
      },
      "file_extension": ".py",
      "mimetype": "text/x-python",
      "name": "python",
      "nbconvert_exporter": "python",
      "pygments_lexer": "ipython3",
      "version": "3.7.3"
    },
    "colab": {
      "name": "PCA.ipynb",
      "provenance": []
    }
  },
  "cells": [
    {
      "cell_type": "code",
      "metadata": {
        "id": "4fzBoGhsykn8"
      },
      "source": [
        "import pandas as pd\n",
        "import numpy as np\n",
        "import matplotlib.pyplot as plt\n",
        "import seaborn as sns\n",
        "%matplotlib inline\n"
      ],
      "execution_count": 1,
      "outputs": []
    },
    {
      "cell_type": "code",
      "metadata": {
        "id": "NzsUPCRTykn_"
      },
      "source": [
        "df = pd.read_csv('/content/Akshata Choukimath - iris.csv - Akshata Choukimath - iris.csv.csv')"
      ],
      "execution_count": 3,
      "outputs": []
    },
    {
      "cell_type": "code",
      "metadata": {
        "id": "hNL4GcUZykoA",
        "colab": {
          "base_uri": "https://localhost:8080/",
          "height": 195
        },
        "outputId": "ca7c40a9-60df-47e7-e7eb-d3d7e7215e88"
      },
      "source": [
        "df.head()"
      ],
      "execution_count": 4,
      "outputs": [
        {
          "output_type": "execute_result",
          "data": {
            "text/html": [
              "<div>\n",
              "<style scoped>\n",
              "    .dataframe tbody tr th:only-of-type {\n",
              "        vertical-align: middle;\n",
              "    }\n",
              "\n",
              "    .dataframe tbody tr th {\n",
              "        vertical-align: top;\n",
              "    }\n",
              "\n",
              "    .dataframe thead th {\n",
              "        text-align: right;\n",
              "    }\n",
              "</style>\n",
              "<table border=\"1\" class=\"dataframe\">\n",
              "  <thead>\n",
              "    <tr style=\"text-align: right;\">\n",
              "      <th></th>\n",
              "      <th>sepal.length</th>\n",
              "      <th>sepal.width</th>\n",
              "      <th>petal.length</th>\n",
              "      <th>petal.width</th>\n",
              "      <th>variety</th>\n",
              "    </tr>\n",
              "  </thead>\n",
              "  <tbody>\n",
              "    <tr>\n",
              "      <th>0</th>\n",
              "      <td>5.1</td>\n",
              "      <td>3.5</td>\n",
              "      <td>1.4</td>\n",
              "      <td>0.2</td>\n",
              "      <td>Setosa</td>\n",
              "    </tr>\n",
              "    <tr>\n",
              "      <th>1</th>\n",
              "      <td>4.9</td>\n",
              "      <td>3.0</td>\n",
              "      <td>1.4</td>\n",
              "      <td>0.2</td>\n",
              "      <td>Setosa</td>\n",
              "    </tr>\n",
              "    <tr>\n",
              "      <th>2</th>\n",
              "      <td>4.7</td>\n",
              "      <td>3.2</td>\n",
              "      <td>1.3</td>\n",
              "      <td>0.2</td>\n",
              "      <td>Setosa</td>\n",
              "    </tr>\n",
              "    <tr>\n",
              "      <th>3</th>\n",
              "      <td>4.6</td>\n",
              "      <td>3.1</td>\n",
              "      <td>1.5</td>\n",
              "      <td>0.2</td>\n",
              "      <td>Setosa</td>\n",
              "    </tr>\n",
              "    <tr>\n",
              "      <th>4</th>\n",
              "      <td>5.0</td>\n",
              "      <td>3.6</td>\n",
              "      <td>1.4</td>\n",
              "      <td>0.2</td>\n",
              "      <td>Setosa</td>\n",
              "    </tr>\n",
              "  </tbody>\n",
              "</table>\n",
              "</div>"
            ],
            "text/plain": [
              "   sepal.length  sepal.width  petal.length  petal.width variety\n",
              "0           5.1          3.5           1.4          0.2  Setosa\n",
              "1           4.9          3.0           1.4          0.2  Setosa\n",
              "2           4.7          3.2           1.3          0.2  Setosa\n",
              "3           4.6          3.1           1.5          0.2  Setosa\n",
              "4           5.0          3.6           1.4          0.2  Setosa"
            ]
          },
          "metadata": {
            "tags": []
          },
          "execution_count": 4
        }
      ]
    },
    {
      "cell_type": "code",
      "metadata": {
        "id": "d3oFdwdpykoB"
      },
      "source": [
        "# split the data into features and labels\n",
        "\n",
        "X = df[['sepal.length',\t'sepal.width',\t'petal.length',\t'petal.width']]\n",
        "Y = df[['variety']]\n",
        "\n"
      ],
      "execution_count": 6,
      "outputs": []
    },
    {
      "cell_type": "code",
      "metadata": {
        "id": "ov3QzUm0ykoC"
      },
      "source": [
        "\n",
        "from sklearn.preprocessing import StandardScaler\n",
        "X_std = StandardScaler().fit_transform(X)\n"
      ],
      "execution_count": 8,
      "outputs": []
    },
    {
      "cell_type": "code",
      "metadata": {
        "id": "pJWNr4HXykoD",
        "colab": {
          "base_uri": "https://localhost:8080/"
        },
        "outputId": "666764c9-ee4f-4a98-e534-833768069245"
      },
      "source": [
        "# features are columns from x_std\n",
        "features = X_std.T \n",
        "covariance_matrix = np.cov(features)\n",
        "print('COV_MAT\\n',covariance_matrix)\n",
        "\n",
        "\n"
      ],
      "execution_count": 9,
      "outputs": [
        {
          "output_type": "stream",
          "text": [
            "COV_MAT\n",
            " [[ 1.00671141 -0.11835884  0.87760447  0.82343066]\n",
            " [-0.11835884  1.00671141 -0.43131554 -0.36858315]\n",
            " [ 0.87760447 -0.43131554  1.00671141  0.96932762]\n",
            " [ 0.82343066 -0.36858315  0.96932762  1.00671141]]\n"
          ],
          "name": "stdout"
        }
      ]
    },
    {
      "cell_type": "code",
      "metadata": {
        "id": "hxnZgRVyykoE",
        "colab": {
          "base_uri": "https://localhost:8080/"
        },
        "outputId": "c2b38773-586b-47b6-eed7-668e9b72eb80"
      },
      "source": [
        "eig_vals, eig_vecs = np.linalg.eig(covariance_matrix)\n",
        "print('Eigenvectors \\n%s' %eig_vecs)\n",
        "print('\\nEigenvalues \\n%s' %eig_vals)\n",
        "# We reduce dimension to 1 dimension, since 1 eigenvector has 73% (enough) variances\n",
        "print('\\nHighest(%) varying EigenValue\\n',eig_vals[0] / sum(eig_vals))"
      ],
      "execution_count": 10,
      "outputs": [
        {
          "output_type": "stream",
          "text": [
            "Eigenvectors \n",
            "[[ 0.52106591 -0.37741762 -0.71956635  0.26128628]\n",
            " [-0.26934744 -0.92329566  0.24438178 -0.12350962]\n",
            " [ 0.5804131  -0.02449161  0.14212637 -0.80144925]\n",
            " [ 0.56485654 -0.06694199  0.63427274  0.52359713]]\n",
            "\n",
            "Eigenvalues \n",
            "[2.93808505 0.9201649  0.14774182 0.02085386]\n",
            "\n",
            "Highest(%) varying EigenValue\n",
            " 0.729624454132999\n"
          ],
          "name": "stdout"
        }
      ]
    },
    {
      "cell_type": "code",
      "metadata": {
        "id": "lBpW6cnHykoF",
        "colab": {
          "base_uri": "https://localhost:8080/"
        },
        "outputId": "b543722a-7c5e-4d92-932f-b36fbd6424e4"
      },
      "source": [
        "projected_X = X_std.dot(eig_vecs.T[0])\n",
        "print(projected_X)"
      ],
      "execution_count": 11,
      "outputs": [
        {
          "output_type": "stream",
          "text": [
            "[-2.26470281 -2.08096115 -2.36422905 -2.29938422 -2.38984217 -2.07563095\n",
            " -2.44402884 -2.23284716 -2.33464048 -2.18432817 -2.1663101  -2.32613087\n",
            " -2.2184509  -2.6331007  -2.1987406  -2.26221453 -2.2075877  -2.19034951\n",
            " -1.898572   -2.34336905 -1.914323   -2.20701284 -2.7743447  -1.81866953\n",
            " -2.22716331 -1.95184633 -2.05115137 -2.16857717 -2.13956345 -2.26526149\n",
            " -2.14012214 -1.83159477 -2.61494794 -2.44617739 -2.10997488 -2.2078089\n",
            " -2.04514621 -2.52733191 -2.42963258 -2.16971071 -2.28647514 -1.85812246\n",
            " -2.5536384  -1.96444768 -2.13705901 -2.0697443  -2.38473317 -2.39437631\n",
            " -2.22944655 -2.20383344  1.10178118  0.73133743  1.24097932  0.40748306\n",
            "  1.0754747   0.38868734  0.74652974 -0.48732274  0.92790164  0.01142619\n",
            " -0.11019628  0.44069345  0.56210831  0.71956189 -0.0333547   0.87540719\n",
            "  0.35025167  0.15881005  1.22509363  0.1649179   0.73768265  0.47628719\n",
            "  1.2341781   0.6328582   0.70266118  0.87427365  1.25650912  1.35840512\n",
            "  0.66480037 -0.04025861  0.13079518  0.02345269  0.24153827  1.06109461\n",
            "  0.22397877  0.42913912  1.04872805  1.04453138  0.06958832  0.28347724\n",
            "  0.27907778  0.62456979  0.33653037 -0.36218338  0.28858624  0.09136066\n",
            "  0.22771687  0.57638829 -0.44766702  0.25673059  1.84456887  1.15788161\n",
            "  2.20526679  1.44015066  1.86781222  2.75187334  0.36701769  2.30243944\n",
            "  2.00668647  2.25977735  1.36417549  1.60267867  1.8839007   1.2601151\n",
            "  1.4676452   1.59007732  1.47143146  2.42632899  3.31069558  1.26376667\n",
            "  2.0377163   0.97798073  2.89765149  1.33323218  1.7007339   1.95432671\n",
            "  1.17510363  1.02095055  1.78834992  1.86364755  2.43595373  2.30492772\n",
            "  1.86270322  1.11414774  1.2024733   2.79877045  1.57625591  1.3462921\n",
            "  0.92482492  1.85204505  2.01481043  1.90178409  1.15788161  2.04055823\n",
            "  1.9981471   1.87050329  1.56458048  1.5211705   1.37278779  0.96065603]\n"
          ],
          "name": "stdout"
        }
      ]
    },
    {
      "cell_type": "code",
      "metadata": {
        "id": "gXe5HqweykoG"
      },
      "source": [
        "result = pd.DataFrame(projected_X, columns=['PC1'])\n",
        "result['y-axis'] = 0.0\n",
        "result['label'] = Y"
      ],
      "execution_count": 12,
      "outputs": []
    },
    {
      "cell_type": "code",
      "metadata": {
        "id": "yu2i_V3aykoG",
        "colab": {
          "base_uri": "https://localhost:8080/",
          "height": 470
        },
        "outputId": "359762f9-7472-4411-8e26-23d269d56ff6"
      },
      "source": [
        "sns.lmplot('PC1', 'y-axis', data=result, fit_reg=False,  # x-axis, y-axis, data, no line\n",
        "           scatter_kws={\"s\": 50}, # marker size\n",
        "           hue=\"label\") # color\n",
        "\n",
        "# title\n",
        "plt.title('PCA result')"
      ],
      "execution_count": 13,
      "outputs": [
        {
          "output_type": "stream",
          "text": [
            "/usr/local/lib/python3.6/dist-packages/seaborn/_decorators.py:43: FutureWarning: Pass the following variables as keyword args: x, y. From version 0.12, the only valid positional argument will be `data`, and passing other arguments without an explicit keyword will result in an error or misinterpretation.\n",
            "  FutureWarning\n"
          ],
          "name": "stderr"
        },
        {
          "output_type": "execute_result",
          "data": {
            "text/plain": [
              "Text(0.5, 1.0, 'PCA result')"
            ]
          },
          "metadata": {
            "tags": []
          },
          "execution_count": 13
        },
        {
          "output_type": "display_data",
          "data": {
            "image/png": "[encoded data removed]",
            "text/plain": [
              "<Figure size 445x360 with 1 Axes>"
            ]
          },
          "metadata": {
            "tags": [],
            "needs_background": "light"
          }
        }
      ]
    },
    {
      "cell_type": "code",
      "metadata": {
        "id": "NPnDY7UbykoH"
      },
      "source": [
        "# PCA using built-in function from sklearn\n",
        "\n",
        "from sklearn import decomposition\n",
        "pca = decomposition.PCA(n_components=1)\n",
        "sklearn_pca_x = pca.fit_transform(X_std)\n"
      ],
      "execution_count": 14,
      "outputs": []
    },
    {
      "cell_type": "code",
      "metadata": {
        "id": "nQU0BBslykoH",
        "colab": {
          "base_uri": "https://localhost:8080/",
          "height": 454
        },
        "outputId": "0a918599-8606-49e1-80ef-66f136d78c7f"
      },
      "source": [
        "sklearn_result = pd.DataFrame(sklearn_pca_x, columns=['PC1'])\n",
        "sklearn_result['y-axis'] = 0.0\n",
        "sklearn_result['label'] = Y\n",
        "\n",
        "sns.lmplot('PC1', 'y-axis', data=sklearn_result, fit_reg=False,  # x-axis, y-axis, data, no line\n",
        "           scatter_kws={\"s\": 50}, # marker size\n",
        "           hue=\"label\") # color"
      ],
      "execution_count": 15,
      "outputs": [
        {
          "output_type": "stream",
          "text": [
            "/usr/local/lib/python3.6/dist-packages/seaborn/_decorators.py:43: FutureWarning: Pass the following variables as keyword args: x, y. From version 0.12, the only valid positional argument will be `data`, and passing other arguments without an explicit keyword will result in an error or misinterpretation.\n",
            "  FutureWarning\n"
          ],
          "name": "stderr"
        },
        {
          "output_type": "execute_result",
          "data": {
            "text/plain": [
              "<seaborn.axisgrid.FacetGrid at 0x7ff9dc72b8d0>"
            ]
          },
          "metadata": {
            "tags": []
          },
          "execution_count": 15
        },
        {
          "output_type": "display_data",
          "data": {
            "image/png": "[encoded data removed]",
            "text/plain": [
              "<Figure size 445x360 with 1 Axes>"
            ]
          },
          "metadata": {
            "tags": [],
            "needs_background": "light"
          }
        }
      ]
    }
  ]
}